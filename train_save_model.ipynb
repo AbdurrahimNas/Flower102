{
 "cells": [
  {
   "cell_type": "code",
   "execution_count": null,
   "metadata": {},
   "outputs": [],
   "source": [
    "from run_model import train_and_save\n",
    "\n",
    "results = train_and_save(data_path=\"./data\",\n",
    "                         batch_size=128,\n",
    "                         label_smoothing=0.1,\n",
    "                         lr=1e-3,\n",
    "                         epochs=30,\n",
    "                         compile=True)"
   ]
  }
 ],
 "metadata": {
  "kernelspec": {
   "display_name": "Python 3",
   "language": "python",
   "name": "python3"
  },
  "language_info": {
   "name": "python",
   "version": "3.9.5"
  }
 },
 "nbformat": 4,
 "nbformat_minor": 2
}
